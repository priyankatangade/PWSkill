{
 "cells": [
  {
   "cell_type": "markdown",
   "id": "88f035b3-74ff-4f9f-b2f6-3668ce903726",
   "metadata": {},
   "source": [
    "Q1. Explain Class and Object with respect to Object-Oriented Programming. Give a suitable example.\n",
    "Ans: Class is the blueprint and object is the collection of data and methods.\n"
   ]
  },
  {
   "cell_type": "code",
   "execution_count": 1,
   "id": "91e085b1-6112-4df3-a1a0-9a09319219e1",
   "metadata": {},
   "outputs": [
    {
     "name": "stdout",
     "output_type": "stream",
     "text": [
      " This is a Parent Class\n",
      "10\n"
     ]
    }
   ],
   "source": [
    "class Parent:\n",
    "    print(\" This is a Parent Class\")\n",
    "    x=10\n",
    "p1= Parent()    \n",
    "print(p1.x)"
   ]
  },
  {
   "cell_type": "markdown",
   "id": "f356b727-6776-4638-ac49-3ebd378c457e",
   "metadata": {},
   "source": [
    "Q2. Name the four pillars of OOPs.\n",
    "Ans: Inheritance, Abstraction,Encapsulation, Polymorphism"
   ]
  },
  {
   "cell_type": "markdown",
   "id": "f5ffb024-947e-44c3-ac12-58b8319ca02c",
   "metadata": {},
   "source": [
    "Q3. Explain why the __init__() function is used. Give a suitable example.\n",
    "Ans: __init__() is a constructor function. This function gets automatically called whenever a object is created."
   ]
  },
  {
   "cell_type": "code",
   "execution_count": 5,
   "id": "120bd610-0148-417b-8425-45454d7d9c55",
   "metadata": {},
   "outputs": [
    {
     "name": "stdout",
     "output_type": "stream",
     "text": [
      "This will get called by default \n",
      "A Film will have the hero\n"
     ]
    }
   ],
   "source": [
    "class Film:\n",
    "    def __init__(self):\n",
    "        print(\"This will get called by default \")\n",
    "    def hero(self):\n",
    "            print(\"A Film will have the hero\") \n",
    "F1=Film() \n",
    "F1.hero()"
   ]
  },
  {
   "cell_type": "markdown",
   "id": "bd20cba9-66de-4b94-b4a8-93dd4eb79ee8",
   "metadata": {},
   "source": [
    "Q4. Why self is used in OOPs?\n",
    "Ans:Self represents the instance of the class. The self keyword is used to access the variable, method defined in a class.\n"
   ]
  },
  {
   "cell_type": "markdown",
   "id": "9ab4d13f-786c-4594-9014-e9cfa8d9084b",
   "metadata": {},
   "source": [
    "Q5. What is inheritance? Give an example for each type of inheritance.\n",
    "Ans: Inheritance means extending the properties of Parent class into Child Class.  There are five types of inheritance\n",
    "1. Single Inheritance\n",
    "2. Multiple Inheritance\n",
    "3. Multilevel Inheritance\n",
    "4. Hybrid Inheritance\n",
    "5. Hierarchial Inheritance"
   ]
  },
  {
   "cell_type": "code",
   "execution_count": 16,
   "id": "be260bea-d760-449e-add6-b22b2c716bca",
   "metadata": {},
   "outputs": [
    {
     "name": "stdout",
     "output_type": "stream",
     "text": [
      "In child class\n"
     ]
    },
    {
     "data": {
      "text/plain": [
       "5"
      ]
     },
     "execution_count": 16,
     "metadata": {},
     "output_type": "execute_result"
    }
   ],
   "source": [
    "#Single Inheritance\n",
    "class Parent:\n",
    "    x=5\n",
    "class Child(Parent):\n",
    "    print(\"In child class\")\n",
    "c1=Child()    \n",
    "c1.x"
   ]
  },
  {
   "cell_type": "code",
   "execution_count": 20,
   "id": "91cd6354-e91e-46e4-9636-49db80328d29",
   "metadata": {},
   "outputs": [
    {
     "name": "stdout",
     "output_type": "stream",
     "text": [
      "Inside Person class\n",
      "Inside Employee Class\n",
      "Inside Men Class\n"
     ]
    }
   ],
   "source": [
    "#Multiple Inheritance\n",
    "class Person:\n",
    "    print(\"Inside Person class\")\n",
    "class Employee:\n",
    "    print(\"Inside Employee Class\")\n",
    "class Men(Employee,Person):\n",
    "    print(\"Inside Men Class\")\n",
    "m=Men()   "
   ]
  },
  {
   "cell_type": "code",
   "execution_count": 15,
   "id": "31324417-8298-488e-aee8-3b1c54108136",
   "metadata": {},
   "outputs": [
    {
     "name": "stdout",
     "output_type": "stream",
     "text": [
      "Inside Person class\n",
      "Inside Employee Class\n",
      "Inside Men Class\n"
     ]
    }
   ],
   "source": [
    "#Multilevel Inheritance\n",
    "class Person:\n",
    "    print(\"Inside Person class\")\n",
    "class Employee(Person):\n",
    "    print(\"Inside Employee Class\")\n",
    "class Men(Employee):\n",
    "    print(\"Inside Men Class\")\n",
    "m1=Men() "
   ]
  },
  {
   "cell_type": "code",
   "execution_count": 21,
   "id": "fa7e4a41-7158-4ded-8ec2-e6fbf8ca80fb",
   "metadata": {},
   "outputs": [
    {
     "name": "stdout",
     "output_type": "stream",
     "text": [
      "Inside Parent\n",
      "Function in Child1 Class\n",
      "Inside Parent\n",
      "Function in Child2 Class\n"
     ]
    }
   ],
   "source": [
    "#Hierarchial Inheritance\n",
    "class Parent:\n",
    "    def func1(self):\n",
    "        print(\"Inside Parent\")\n",
    "class Child1(Parent):\n",
    "    def func2(self):\n",
    "        print(\"Function in Child1 Class\")\n",
    "class Child2(Parent):\n",
    "    def func3(self):\n",
    "        print(\"Function in Child2 Class\")\n",
    "object1=Child1()\n",
    "object2=Child2()\n",
    "object1.func1()\n",
    "object1.func2()\n",
    "object2.func1()\n",
    "object2.func3()"
   ]
  },
  {
   "cell_type": "code",
   "execution_count": 23,
   "id": "fab40183-632f-424a-9076-b6ce4c614126",
   "metadata": {},
   "outputs": [
    {
     "name": "stdout",
     "output_type": "stream",
     "text": [
      "Function in School Class\n",
      "Function in Student1 Class\n"
     ]
    }
   ],
   "source": [
    "#Hybrid Inheritance\n",
    "class School():\n",
    "    def func1(self):\n",
    "        print(\"Function in School Class\")\n",
    "class Student1():\n",
    "    def func2(self):\n",
    "        print(\"Function in Student1 Class\")\n",
    "class Student2():\n",
    "    def func3(self):\n",
    "        print(\"Function in Student2 Class\")    \n",
    "class Student3(Student1,School):\n",
    "    def func4(self):\n",
    "        print(\"Function in Student3 Class\")\n",
    "object=Student3()\n",
    "object.func1()\n",
    "object.func2()"
   ]
  },
  {
   "cell_type": "code",
   "execution_count": null,
   "id": "4af14527-9fb9-4fd9-8afb-748267c7bdc1",
   "metadata": {},
   "outputs": [],
   "source": []
  }
 ],
 "metadata": {
  "kernelspec": {
   "display_name": "Python 3 (ipykernel)",
   "language": "python",
   "name": "python3"
  },
  "language_info": {
   "codemirror_mode": {
    "name": "ipython",
    "version": 3
   },
   "file_extension": ".py",
   "mimetype": "text/x-python",
   "name": "python",
   "nbconvert_exporter": "python",
   "pygments_lexer": "ipython3",
   "version": "3.10.8"
  }
 },
 "nbformat": 4,
 "nbformat_minor": 5
}
