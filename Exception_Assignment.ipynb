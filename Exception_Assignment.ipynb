{
 "cells": [
  {
   "cell_type": "markdown",
   "id": "351c1e5f-dbb2-40ab-8deb-1d3c390d55c0",
   "metadata": {},
   "source": [
    "1. What is an Exception in python? Write the difference between Exceptions and Syntax errors\n",
    "Ans: An exception in python is an incident that happens while executing a program that causes the regular course of the program command to be disrupted.\n",
    "An error is an issue in a program that prevents the program from completing its task.In comparison, an exception is a condition that interrupt the normal flow of the program."
   ]
  },
  {
   "cell_type": "markdown",
   "id": "73a58bc1-bfcc-4dac-8939-97d23d49292d",
   "metadata": {},
   "source": [
    "Q2. What happens when an exception is not handled? Explain with an example\n",
    "Ans: When an exception is not handled then a program get interrupted in between without completing the task/program"
   ]
  },
  {
   "cell_type": "code",
   "execution_count": 1,
   "id": "8d124c70-687d-4d36-a522-010bffcb7272",
   "metadata": {},
   "outputs": [
    {
     "ename": "ZeroDivisionError",
     "evalue": "division by zero",
     "output_type": "error",
     "traceback": [
      "\u001b[0;31m---------------------------------------------------------------------------\u001b[0m",
      "\u001b[0;31mZeroDivisionError\u001b[0m                         Traceback (most recent call last)",
      "Cell \u001b[0;32mIn[1], line 5\u001b[0m\n\u001b[1;32m      2\u001b[0m     y\u001b[38;5;241m=\u001b[39mx\u001b[38;5;241m/\u001b[39m\u001b[38;5;241m0\u001b[39m\n\u001b[1;32m      3\u001b[0m     \u001b[38;5;28mprint\u001b[39m(y)\n\u001b[0;32m----> 5\u001b[0m \u001b[43mdivideByZero\u001b[49m\u001b[43m(\u001b[49m\u001b[38;5;241;43m5\u001b[39;49m\u001b[43m)\u001b[49m    \n",
      "Cell \u001b[0;32mIn[1], line 2\u001b[0m, in \u001b[0;36mdivideByZero\u001b[0;34m(x)\u001b[0m\n\u001b[1;32m      1\u001b[0m \u001b[38;5;28;01mdef\u001b[39;00m \u001b[38;5;21mdivideByZero\u001b[39m(x):\n\u001b[0;32m----> 2\u001b[0m     y\u001b[38;5;241m=\u001b[39m\u001b[43mx\u001b[49m\u001b[38;5;241;43m/\u001b[39;49m\u001b[38;5;241;43m0\u001b[39;49m\n\u001b[1;32m      3\u001b[0m     \u001b[38;5;28mprint\u001b[39m(y)\n",
      "\u001b[0;31mZeroDivisionError\u001b[0m: division by zero"
     ]
    }
   ],
   "source": [
    "def divideByZero(x):\n",
    "    y=x/0\n",
    "    print(y)\n",
    "    \n",
    "divideByZero(5)    "
   ]
  },
  {
   "cell_type": "markdown",
   "id": "60778a3c-c8b6-4569-aaee-89eb72c9ebde",
   "metadata": {},
   "source": [
    "Q3. Which Python statements are used to catch and handle exceptions? Explain with an example\n",
    "Ans: The try and except block in python is used to ctach and handle the exception"
   ]
  },
  {
   "cell_type": "code",
   "execution_count": 2,
   "id": "dcfa483f-1fae-4dca-a00d-b41d8e5d0d45",
   "metadata": {},
   "outputs": [
    {
     "name": "stdout",
     "output_type": "stream",
     "text": [
      "[Errno 2] No such file or directory: 'data.csv'\n",
      "Data.csv does not exist\n"
     ]
    }
   ],
   "source": [
    "try:\n",
    "    with open('data.csv') as f:\n",
    "        read_csv=f.read()\n",
    "except FileNotFoundError as e:\n",
    "    print(e)\n",
    "    print(\"Data.csv does not exist\")"
   ]
  },
  {
   "cell_type": "markdown",
   "id": "997a852d-ab69-4ac4-a2f1-93e25e11753e",
   "metadata": {},
   "source": [
    "Q4. Explain with an example:\n",
    "#try and else\n",
    "#finally\n",
    "#raise\n",
    "Ans:The try block let you test a block of code for an error. The else block let you execute the code when ther is no error.\n",
    "The finally block always gets executes no matter exception occurs or not/\n",
    "The raise keyword is used to raise an exception."
   ]
  },
  {
   "cell_type": "code",
   "execution_count": 14,
   "id": "cb62929d-7712-4455-bbd1-f436f912a240",
   "metadata": {},
   "outputs": [
    {
     "name": "stdout",
     "output_type": "stream",
     "text": [
      "y has positive value \n",
      "This will always get executed\n",
      "Number is divided by negative number\n",
      "This will always get executed\n"
     ]
    }
   ],
   "source": [
    "\n",
    "def division(x,y):\n",
    "    try:\n",
    "       if y < 0:\n",
    "         raise ValueError(\"Number is divided by negative number\")\n",
    "       else:\n",
    "         print(\"y has positive value \")\n",
    "    except ValueError as e:\n",
    "        print(e)\n",
    "    finally:\n",
    "      print(\"This will always get executed\")    \n",
    "        \n",
    "division(3,1)\n",
    "division(4,-2)\n",
    "\n",
    "        \n",
    "        "
   ]
  },
  {
   "cell_type": "markdown",
   "id": "7aadfccd-308d-4672-9588-5b47dc0d71d2",
   "metadata": {},
   "source": [
    "Q5. What are Custom Exceptions in python? Why do we need Custom Exceptions? Explain with an example\n",
    "Ans: A custom exception is a user defined exception that is created by the programmer to handle specific error scenarios in a program. Custom exceptions are used to improve the readability and user friendliness when designing our own packages.\n"
   ]
  },
  {
   "cell_type": "code",
   "execution_count": 16,
   "id": "7ba33f88-c4de-49de-8fa0-ffbaa56053aa",
   "metadata": {},
   "outputs": [
    {
     "ename": "NotValidAge",
     "evalue": "Age should be greater than 18",
     "output_type": "error",
     "traceback": [
      "\u001b[0;31m---------------------------------------------------------------------------\u001b[0m",
      "\u001b[0;31mNotValidAge\u001b[0m                               Traceback (most recent call last)",
      "Cell \u001b[0;32mIn[16], line 9\u001b[0m\n\u001b[1;32m      6\u001b[0m     \u001b[38;5;28;01mif\u001b[39;00m age \u001b[38;5;241m<\u001b[39m \u001b[38;5;241m18\u001b[39m:\n\u001b[1;32m      7\u001b[0m         \u001b[38;5;28;01mraise\u001b[39;00m NotValidAge\n\u001b[0;32m----> 9\u001b[0m \u001b[43mdriving_license\u001b[49m\u001b[43m(\u001b[49m\u001b[38;5;241;43m16\u001b[39;49m\u001b[43m)\u001b[49m\n",
      "Cell \u001b[0;32mIn[16], line 7\u001b[0m, in \u001b[0;36mdriving_license\u001b[0;34m(age)\u001b[0m\n\u001b[1;32m      5\u001b[0m \u001b[38;5;28;01mdef\u001b[39;00m \u001b[38;5;21mdriving_license\u001b[39m(age):\n\u001b[1;32m      6\u001b[0m     \u001b[38;5;28;01mif\u001b[39;00m age \u001b[38;5;241m<\u001b[39m \u001b[38;5;241m18\u001b[39m:\n\u001b[0;32m----> 7\u001b[0m         \u001b[38;5;28;01mraise\u001b[39;00m NotValidAge\n",
      "\u001b[0;31mNotValidAge\u001b[0m: Age should be greater than 18"
     ]
    }
   ],
   "source": [
    "class NotValidAge(Exception):\n",
    "    def __str__(self):\n",
    "        return \"Age should be greater than 18\"\n",
    "\n",
    "def driving_license(age):\n",
    "    if age < 18:\n",
    "        raise NotValidAge\n",
    "        \n",
    "driving_license(16)"
   ]
  },
  {
   "cell_type": "markdown",
   "id": "17518436-07e3-4403-b64b-c9e95626c28f",
   "metadata": {},
   "source": [
    "Q6. Create a custom exception class. Use this class to handle an exception.\n"
   ]
  },
  {
   "cell_type": "code",
   "execution_count": 18,
   "id": "4ee594c5-5004-4720-98e3-ffc8ceed30e2",
   "metadata": {},
   "outputs": [
    {
     "name": "stdout",
     "output_type": "stream",
     "text": [
      "exception occured: Not valid Age\n"
     ]
    }
   ],
   "source": [
    "class NotValidAge(Exception):\n",
    "    def __str__(self):\n",
    "        return \"Age should be greater than 18\"\n",
    "\n",
    "def driving_license(age):\n",
    " try:   \n",
    "   if age < 18:\n",
    "        raise NotValidAge\n",
    " except NotValidAge:\n",
    "    print(\"exception occured: Not valid Age\")\n",
    "        \n",
    "        \n",
    "driving_license(16)"
   ]
  }
 ],
 "metadata": {
  "kernelspec": {
   "display_name": "Python 3 (ipykernel)",
   "language": "python",
   "name": "python3"
  },
  "language_info": {
   "codemirror_mode": {
    "name": "ipython",
    "version": 3
   },
   "file_extension": ".py",
   "mimetype": "text/x-python",
   "name": "python",
   "nbconvert_exporter": "python",
   "pygments_lexer": "ipython3",
   "version": "3.10.8"
  }
 },
 "nbformat": 4,
 "nbformat_minor": 5
}
