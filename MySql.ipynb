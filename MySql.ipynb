{
 "cells": [
  {
   "cell_type": "markdown",
   "id": "ca436a6a-dcd4-48b7-a075-fe14efd782ec",
   "metadata": {},
   "source": [
    "Q1. What is a database? Differentiate between SQL and NoSQL databases.\n",
    "Ans: A database is a collection of organized data that is structured or unstructured.The primary purpose of database is to store huge amount of data.\n",
    "\n",
    "Difference\n",
    "1. SQL Databases are categorized as RDBMS. NoSQL Databases are categorized as non-relational or distributed management system.\n",
    "2. SQL databases have fixed or predefined schema. NOSQL Databases have dynamic schema\n",
    "3. SQL Databases are vertically scalable. NOSQL Databases are horizontally scalable\n",
    "4. SQL Databases are best suited for complex queries. NoSQL Databases are not so good for complex queries\n",
    "5. SQL Databases  display data in form of tables. NOSQL Databses display data as collection of  key value pair,graph databases or wide column store"
   ]
  },
  {
   "cell_type": "markdown",
   "id": "ad8dc5ae-a9b5-41d1-bdd8-49792bf480c6",
   "metadata": {},
   "source": [
    "Q2. What is DDL? Explain why CREATE, DROP, ALTER, and TRUNCATE are used with an example.\n",
    "Ans: A Data definition language is a computer language used to create and modify the structure of database objects in a database.\n",
    "1. CREATE: This command is used to build table.\n",
    "CREATE TABLE Employee(EmployeeId INTEGER PRIMARY KEY, First Name CHAR(40) NULL)\n",
    "2. DROP: A Drop command is used to delete the objects like table,view or index\n",
    "DROP TABLE Employee\n",
    "3. ALTER: An alter command modifies an existing database table. This command can add up additional column, drop existing columns and even change the data type of columns involved in a database table\n",
    "ALTER TABLE Employee ADD PRIMARY KEY(employee_pk);\n",
    "4. TRUNCATE: TRUNCATE command is used to remove all records from the table.\n",
    "TRUNCATE TABLE Employee\n"
   ]
  },
  {
   "cell_type": "markdown",
   "id": "b399a184-3d5e-4b2a-88fe-1fe56cec81e7",
   "metadata": {},
   "source": [
    "Q3. What is DML? Explain INSERT, UPDATE, and DELETE with an example.\n",
    "Ans: Data Manipulation Language is used to make changes to the databases such as CRUD operations like create,read, update and delete data.\n",
    "1. INSERT: Insert command is used to insert data in database tables.\n",
    "Insert into Student(stu_id, stu_name, stu_marks) values(102,Priya,56)\n",
    "2. UPDATE: Update command is used to modify or update the existing data in database tables.\n",
    "Update Student set stu_marks=78 where stu_id=102\n",
    "3. DELETE: DELETE Command is used to remove single or multiple records from the database tables.\n",
    "DELETE from Student where stu_id=102\n"
   ]
  },
  {
   "cell_type": "markdown",
   "id": "9761b017-e7eb-4773-8e2e-c3ccdba1e854",
   "metadata": {},
   "source": [
    "Q4. What is DQL? Explain SELECT with an example.\n",
    "Ans: Data Query Language statements are used to query the data contained in schema objects.\n",
    "SELECT: SELECT Command shows the records of specified table.\n",
    "SELECT * from Student;"
   ]
  },
  {
   "cell_type": "markdown",
   "id": "2e86c528-ef28-406f-8e53-82d3eeb44d51",
   "metadata": {},
   "source": [
    "Q5. Explain Primary Key and Foreign Key.\n",
    "Ans The Primary key constraint uniquely identifies each record in a table.Primary keys must contain UNIQUE values and cannot contain NULL Values.\n",
    "A Foreign key is a field in one table, that refers to the PRIMARY KEY in another table."
   ]
  },
  {
   "cell_type": "markdown",
   "id": "71349478-6069-4fca-946e-be20847544c7",
   "metadata": {},
   "source": [
    "Q6. Write a python code to connect MySQL to python. Explain the cursor() and execute() method.\n",
    "Ans: cursor() is a data access object that can be used to either iterate over the set of rows in a table or insert new rows into a table .The execute() is used to execute the query and fetch the records from the database."
   ]
  },
  {
   "cell_type": "code",
   "execution_count": null,
   "id": "81a4eea6-ad79-4129-85bd-96853b0963b2",
   "metadata": {},
   "outputs": [],
   "source": [
    "import mysql.connector\n",
    "mydb= mysql.connector.connect(\n",
    "    host=\"localhost\",\n",
    "    user=\"priya\",\n",
    "    password=\"Temp123\")\n",
    "\n",
    "print(mydb)\n",
    "mycursor=mydb.cursor()\n",
    "mycursor.execute(\"CREATE DATABASE Employee\")"
   ]
  },
  {
   "cell_type": "markdown",
   "id": "4afdb1bc-6b2a-406f-b179-8bf89bb56909",
   "metadata": {},
   "source": [
    "Q7. Give the order of execution of SQL clauses in an SQL query.\n",
    "Ans: Order of execution of SQL query is given below\n",
    "1.FROM\n",
    "2.where\n",
    "3.group by\n",
    "4.having\n",
    "5.select\n",
    "6.order by\n",
    "7.limit\n",
    "\n",
    "SELECT Customers.customer_id, Customers.first_name,Orders.amt,Orders.order_id\n",
    "FROM Customers\n",
    "JOIN Orders\n",
    "ON Customers.customer_id=Orders.customer_id\n",
    "WHERE Orders.order_id <= 4\n",
    "ORDER BY Orders.order_id ASC\n",
    "LIMIT 2"
   ]
  }
 ],
 "metadata": {
  "kernelspec": {
   "display_name": "Python 3 (ipykernel)",
   "language": "python",
   "name": "python3"
  },
  "language_info": {
   "codemirror_mode": {
    "name": "ipython",
    "version": 3
   },
   "file_extension": ".py",
   "mimetype": "text/x-python",
   "name": "python",
   "nbconvert_exporter": "python",
   "pygments_lexer": "ipython3",
   "version": "3.10.8"
  }
 },
 "nbformat": 4,
 "nbformat_minor": 5
}
