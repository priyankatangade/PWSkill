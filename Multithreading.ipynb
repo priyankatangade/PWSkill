{
 "cells": [
  {
   "cell_type": "markdown",
   "id": "d58e1c09-84cb-49a5-8ac1-89225ad7d1aa",
   "metadata": {},
   "source": [
    "Q1. What is multithreading in python? Why is it used? Name the module used to handle threads in python\n",
    "Ans:Multithreading is a process of executing multiple threads concurrently by rapidly switching the control of the CPU between threads. Multithreading is used for efficient utilization of resources as the thread share the same memory and data space.\n",
    "Threading module is used to handle the threads in python."
   ]
  },
  {
   "cell_type": "markdown",
   "id": "3bee108a-aa51-47fd-b443-b8042e114820",
   "metadata": {},
   "source": [
    "Q2 Why threading module used? Write the use of the following functions:\n",
    "1.activeCount()\n",
    " 2.currentThread()\n",
    " 3.enumerate()\n",
    " Ans: Threading module is used for creating, controlling and managing threads in python.\n",
    " 1.activeCount(): This function returns the number of thread objects currently alive\n",
    " 2.currentThread():This function return the current thread object corresponding to caller thread of control\n",
    " 3.enumerate(): This method return a list of all thread objects currently alive"
   ]
  },
  {
   "cell_type": "markdown",
   "id": "653bed9e-730a-47ff-aa7a-39c1d33fcc5e",
   "metadata": {},
   "source": [
    "Q3. Explain the following functions:\n",
    "1.run()\n",
    "2.start()\n",
    "3.join()\n",
    "4.isAlive()\n",
    "Ans: 1.run(): The run() method is the entry point for the thread\n",
    "2.start(): The start() method is used to starts the python thread by calling the run method\n",
    "3.join(): join() method waits for the thread to terminate\n",
    "4.isAlive(): The isAlive() method check whether a thread is still executing"
   ]
  },
  {
   "cell_type": "markdown",
   "id": "8f6992e9-1025-4348-af20-87dd665c1138",
   "metadata": {},
   "source": [
    "4. Write a python program to create two threads. Thread one must print the list of squares and thread two must print the list of cubes"
   ]
  },
  {
   "cell_type": "code",
   "execution_count": 2,
   "id": "65d05f00-ae03-480e-a152-000d3dfc6cbb",
   "metadata": {},
   "outputs": [
    {
     "name": "stdout",
     "output_type": "stream",
     "text": [
      "[1, 4, 9, 16]\n",
      "[1, 8, 27, 64]\n"
     ]
    }
   ],
   "source": [
    "import threading\n",
    "\n",
    "def thread1(i):\n",
    "    square_list=[x**2 for x in i]\n",
    "    print(square_list)\n",
    "\n",
    "def thread2(i):\n",
    "    cube_list=[x**3 for x in i]\n",
    "    print(cube_list)\n",
    "    \n",
    "if __name__=='__main__':  \n",
    "    \n",
    "    t1=threading.Thread(target=thread1,args=([1,2,3,4],))\n",
    "    t2=threading.Thread(target=thread2,args=([1,2,3,4],))  \n",
    "    t1.start()\n",
    "    t2.start()\n",
    "    t1.join()\n",
    "    t2.join()"
   ]
  },
  {
   "cell_type": "markdown",
   "id": "1df76075-69b0-4aa0-b3f7-c9086d7b623f",
   "metadata": {},
   "source": [
    "5. State advantages and disadvantages of multithreading\n",
    "Ans: Advantages\n",
    "1. Better use of CPU resources\n",
    "2. Better use of cache storage by utilization of resources\n",
    "3. Decreased cost of maintenance\n",
    "4. Simultaneous and Parallelized occurence of task\n",
    "\n",
    "Disadvantages\n",
    "1. Overhead of switching context\n",
    "2. Increased potential for deadlock occurence\n",
    "3. Unpredictable results\n",
    "4. Complex debugging and testing process"
   ]
  },
  {
   "cell_type": "markdown",
   "id": "3cf6db79-f1da-4321-8b69-0981b0fc4d14",
   "metadata": {},
   "source": [
    "Q6. Explain deadlocks and race conditions.\n",
    "Ans: A race condition occurs when two thread use the same variable at a given time. Deadlock condition occurs when two thread seeks one lock simultaneously. This situation will stop both thread from processing or executing the functions."
   ]
  }
 ],
 "metadata": {
  "kernelspec": {
   "display_name": "Python 3 (ipykernel)",
   "language": "python",
   "name": "python3"
  },
  "language_info": {
   "codemirror_mode": {
    "name": "ipython",
    "version": 3
   },
   "file_extension": ".py",
   "mimetype": "text/x-python",
   "name": "python",
   "nbconvert_exporter": "python",
   "pygments_lexer": "ipython3",
   "version": "3.10.8"
  }
 },
 "nbformat": 4,
 "nbformat_minor": 5
}
