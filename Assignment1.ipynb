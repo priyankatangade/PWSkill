{
  "nbformat": 4,
  "nbformat_minor": 0,
  "metadata": {
    "colab": {
      "provenance": []
    },
    "kernelspec": {
      "name": "python3",
      "display_name": "Python 3"
    },
    "language_info": {
      "name": "python"
    }
  },
  "cells": [
    {
      "cell_type": "markdown",
      "source": [
        "Q1. Create one variable containing following type of data: \n",
        "(i) string \n",
        "(ii) list \n",
        "(iii) float \n",
        "(iv) tuple\n"
      ],
      "metadata": {
        "id": "b53k1ddBP5O7"
      }
    },
    {
      "cell_type": "code",
      "source": [
        "name='priya'\n",
        "type(name)"
      ],
      "metadata": {
        "colab": {
          "base_uri": "https://localhost:8080/"
        },
        "id": "7xC92L9e7Kxv",
        "outputId": "60587c13-c019-4f40-b246-07fdb5da4c04"
      },
      "execution_count": 2,
      "outputs": [
        {
          "output_type": "execute_result",
          "data": {
            "text/plain": [
              "str"
            ]
          },
          "metadata": {},
          "execution_count": 2
        }
      ]
    },
    {
      "cell_type": "code",
      "source": [
        "plist=['mango','apple','orange']\n",
        "type(plist)"
      ],
      "metadata": {
        "colab": {
          "base_uri": "https://localhost:8080/"
        },
        "id": "baf4bYvE7Vfx",
        "outputId": "c1e36c99-8f2e-424f-e133-125bfe1ad4da"
      },
      "execution_count": 29,
      "outputs": [
        {
          "output_type": "execute_result",
          "data": {
            "text/plain": [
              "list"
            ]
          },
          "metadata": {},
          "execution_count": 29
        }
      ]
    },
    {
      "cell_type": "code",
      "source": [
        "num=1.06\n",
        "type(num)"
      ],
      "metadata": {
        "colab": {
          "base_uri": "https://localhost:8080/"
        },
        "id": "GmdJhE757RMI",
        "outputId": "7f3e70b7-e1fb-4e18-a966-7bba57e43d75"
      },
      "execution_count": 3,
      "outputs": [
        {
          "output_type": "execute_result",
          "data": {
            "text/plain": [
              "float"
            ]
          },
          "metadata": {},
          "execution_count": 3
        }
      ]
    },
    {
      "cell_type": "code",
      "execution_count": 1,
      "metadata": {
        "colab": {
          "base_uri": "https://localhost:8080/"
        },
        "id": "BiaAOMTx6SzC",
        "outputId": "6aceef50-ad64-4412-ca6a-189958d11da2"
      },
      "outputs": [
        {
          "output_type": "execute_result",
          "data": {
            "text/plain": [
              "tuple"
            ]
          },
          "metadata": {},
          "execution_count": 1
        }
      ],
      "source": [
        "names=('priya','neha')\n",
        "type(names)"
      ]
    },
    {
      "cell_type": "markdown",
      "source": [
        "Q2. Given are some following variables containing data: \n",
        "(i) var1 = ‘ ‘ \n",
        "(ii) var2 = ‘[ DS , ML , Python]’ \n",
        "(iii) var3 = [ ‘DS’ , ’ML’ , ‘Python’ ] \n",
        "(iv) var4 = 1. \n",
        "What will be the data type of the above given variable. \n"
      ],
      "metadata": {
        "id": "IAqFRRYKVdVl"
      }
    },
    {
      "cell_type": "code",
      "source": [
        "var1=''\n",
        "type(var1)"
      ],
      "metadata": {
        "colab": {
          "base_uri": "https://localhost:8080/"
        },
        "id": "Ars-1z5_VfjY",
        "outputId": "d1261289-9271-4cac-c025-af55eea7ad22"
      },
      "execution_count": 30,
      "outputs": [
        {
          "output_type": "execute_result",
          "data": {
            "text/plain": [
              "str"
            ]
          },
          "metadata": {},
          "execution_count": 30
        }
      ]
    },
    {
      "cell_type": "code",
      "source": [
        "var2='[DS,ML,Python]'\n",
        "type(var2)"
      ],
      "metadata": {
        "colab": {
          "base_uri": "https://localhost:8080/"
        },
        "id": "jnWA_V_cVoi6",
        "outputId": "b776e232-6fcb-4ad3-8590-d2a0e61313ca"
      },
      "execution_count": 31,
      "outputs": [
        {
          "output_type": "execute_result",
          "data": {
            "text/plain": [
              "str"
            ]
          },
          "metadata": {},
          "execution_count": 31
        }
      ]
    },
    {
      "cell_type": "code",
      "source": [
        "var3=['DS','ML','Python']\n",
        "type(var3)"
      ],
      "metadata": {
        "colab": {
          "base_uri": "https://localhost:8080/"
        },
        "id": "RsqfZboOVyeN",
        "outputId": "61bc6fc7-15e4-4b35-c0f1-ac9ea7005688"
      },
      "execution_count": 32,
      "outputs": [
        {
          "output_type": "execute_result",
          "data": {
            "text/plain": [
              "list"
            ]
          },
          "metadata": {},
          "execution_count": 32
        }
      ]
    },
    {
      "cell_type": "code",
      "source": [
        "var4=1\n",
        "type(var4)"
      ],
      "metadata": {
        "colab": {
          "base_uri": "https://localhost:8080/"
        },
        "id": "SZgEPaTHV8qD",
        "outputId": "fbd70ca3-b2f2-4b45-89a2-f0bdd0ea8a48"
      },
      "execution_count": 33,
      "outputs": [
        {
          "output_type": "execute_result",
          "data": {
            "text/plain": [
              "int"
            ]
          },
          "metadata": {},
          "execution_count": 33
        }
      ]
    },
    {
      "cell_type": "markdown",
      "source": [
        "Q3. Explain the use of the following operators using an example: \n",
        "(i) / \n",
        "(ii) %  \n",
        "(iii) // \n",
        "(iv) ** \n"
      ],
      "metadata": {
        "id": "90B87RdAWcvn"
      }
    },
    {
      "cell_type": "code",
      "source": [
        "/ : It’s a Division operator which gives the quotient "
      ],
      "metadata": {
        "id": "-WrReYkxWehR"
      },
      "execution_count": null,
      "outputs": []
    },
    {
      "cell_type": "code",
      "source": [
        "4/2"
      ],
      "metadata": {
        "colab": {
          "base_uri": "https://localhost:8080/"
        },
        "id": "ppxOjWz4Wqe9",
        "outputId": "55e3b30a-e173-4ab9-a550-fc7bc2bb5a23"
      },
      "execution_count": 34,
      "outputs": [
        {
          "output_type": "execute_result",
          "data": {
            "text/plain": [
              "2.0"
            ]
          },
          "metadata": {},
          "execution_count": 34
        }
      ]
    },
    {
      "cell_type": "markdown",
      "source": [
        "(ii) % : It’s a modulus operator which gives the remainder"
      ],
      "metadata": {
        "id": "hR2bSlozWvON"
      }
    },
    {
      "cell_type": "code",
      "source": [
        "4%2"
      ],
      "metadata": {
        "colab": {
          "base_uri": "https://localhost:8080/"
        },
        "id": "y47jzobUWzyl",
        "outputId": "149e535a-0e07-4e23-fbcb-acc9ceb9450f"
      },
      "execution_count": 35,
      "outputs": [
        {
          "output_type": "execute_result",
          "data": {
            "text/plain": [
              "0"
            ]
          },
          "metadata": {},
          "execution_count": 35
        }
      ]
    },
    {
      "cell_type": "markdown",
      "source": [
        "         (iii)// : It’s a floor division operator which is used to find the floor of the quotient"
      ],
      "metadata": {
        "id": "ZN2JAYOrW4VR"
      }
    },
    {
      "cell_type": "code",
      "source": [
        "4//3"
      ],
      "metadata": {
        "colab": {
          "base_uri": "https://localhost:8080/"
        },
        "id": "JeMTYQ4pW9DR",
        "outputId": "7dab4ff0-a0bc-4e6c-d991-1679d427b63e"
      },
      "execution_count": 37,
      "outputs": [
        {
          "output_type": "execute_result",
          "data": {
            "text/plain": [
              "1"
            ]
          },
          "metadata": {},
          "execution_count": 37
        }
      ]
    },
    {
      "cell_type": "markdown",
      "source": [
        "(iv) ** : It’s a exponentiation operator. It is used to raise the first operand to the power of the second."
      ],
      "metadata": {
        "id": "DhjNAwlTXDMe"
      }
    },
    {
      "cell_type": "code",
      "source": [
        "2**4"
      ],
      "metadata": {
        "colab": {
          "base_uri": "https://localhost:8080/"
        },
        "id": "mDEb4CYeXH4U",
        "outputId": "8f35d661-5b52-4752-861c-daaeac34a526"
      },
      "execution_count": 38,
      "outputs": [
        {
          "output_type": "execute_result",
          "data": {
            "text/plain": [
              "16"
            ]
          },
          "metadata": {},
          "execution_count": 38
        }
      ]
    },
    {
      "cell_type": "markdown",
      "source": [
        "Q4. Create a list of length 10 of your choice containing multiple types of data. Using for loop print the  element and its data type. "
      ],
      "metadata": {
        "id": "I4VbrggNXVQ_"
      }
    },
    {
      "cell_type": "code",
      "source": [
        "mixed_list=['orange',1,1.036,True,['a','b'],{'name':'priya','gender': 'Female'},('hotel','school','park'),'Neha',0,2+6j]\n",
        "for i in mixed_list:\n",
        "  print(type(i))"
      ],
      "metadata": {
        "colab": {
          "base_uri": "https://localhost:8080/"
        },
        "id": "vCOvZPsa7o97",
        "outputId": "f3db82a4-a01b-4611-bc65-26f113390de8"
      },
      "execution_count": 13,
      "outputs": [
        {
          "output_type": "stream",
          "name": "stdout",
          "text": [
            "<class 'str'>\n",
            "<class 'int'>\n",
            "<class 'float'>\n",
            "<class 'bool'>\n",
            "<class 'list'>\n",
            "<class 'dict'>\n",
            "<class 'tuple'>\n",
            "<class 'str'>\n",
            "<class 'int'>\n",
            "<class 'complex'>\n"
          ]
        }
      ]
    },
    {
      "cell_type": "markdown",
      "source": [
        "Q5. Using a while loop, verify if the number A is purely divisible by number B and if so then how many  times it can be divisible."
      ],
      "metadata": {
        "id": "UhorctHnXeYT"
      }
    },
    {
      "cell_type": "code",
      "source": [
        "A=6\n",
        "B=2\n",
        "while A%B==0:\n",
        "  print('A is completely divisible by B')\n",
        "  print(f'A is divisble by B by {A/B} no of times')\n",
        "  break\n",
        "else:\n",
        "  print('A is not completely divisible by B')"
      ],
      "metadata": {
        "colab": {
          "base_uri": "https://localhost:8080/"
        },
        "id": "NDH15TurI0aL",
        "outputId": "feaebcac-f3cf-4264-a884-3e6e0879251d"
      },
      "execution_count": 20,
      "outputs": [
        {
          "output_type": "stream",
          "name": "stdout",
          "text": [
            "A is completely divisible by B\n",
            "A is divisble by B by 3.0 no of times\n"
          ]
        }
      ]
    },
    {
      "cell_type": "markdown",
      "source": [
        "Q6. Create a list containing 25 int type data. Using for loop and if-else condition print if the element is  divisible by 3 or not."
      ],
      "metadata": {
        "id": "OHAkxzuzLQ0Z"
      }
    },
    {
      "cell_type": "code",
      "source": [
        "plist=[1,2,3,4,5,6,7,8,9,10,11,12,13,14,15,16,17,18,19,20,21,22,23,24,25]\n",
        "for i in plist:\n",
        "  if i%3==0:\n",
        "   print(f'{i} is divisible by 3')\n",
        "  else:\n",
        "     print(f'{i} is not divisible by 3')"
      ],
      "metadata": {
        "colab": {
          "base_uri": "https://localhost:8080/"
        },
        "id": "dojwSWMzLDN5",
        "outputId": "a3be1d93-4a03-4f26-d073-1adc1e7bd410"
      },
      "execution_count": 22,
      "outputs": [
        {
          "output_type": "stream",
          "name": "stdout",
          "text": [
            "1 is not divisible by 3\n",
            "2 is not divisible by 3\n",
            "3 is divisible by 3\n",
            "4 is not divisible by 3\n",
            "5 is not divisible by 3\n",
            "6 is divisible by 3\n",
            "7 is not divisible by 3\n",
            "8 is not divisible by 3\n",
            "9 is divisible by 3\n",
            "10 is not divisible by 3\n",
            "11 is not divisible by 3\n",
            "12 is divisible by 3\n",
            "13 is not divisible by 3\n",
            "14 is not divisible by 3\n",
            "15 is divisible by 3\n",
            "16 is not divisible by 3\n",
            "17 is not divisible by 3\n",
            "18 is divisible by 3\n",
            "19 is not divisible by 3\n",
            "20 is not divisible by 3\n",
            "21 is divisible by 3\n",
            "22 is not divisible by 3\n",
            "23 is not divisible by 3\n",
            "24 is divisible by 3\n",
            "25 is not divisible by 3\n"
          ]
        }
      ]
    },
    {
      "cell_type": "markdown",
      "source": [
        "Q7. What do you understand about mutable and immutable data types? Give examples for both showing  this property.\n",
        "Ans: Mutable means which can be changed like list where we can update values at any given index.\n",
        "Immutable means which cannot be changed like String. In string we cannot update/replace the values at any given index."
      ],
      "metadata": {
        "id": "moHw5U6AMIE6"
      }
    },
    {
      "cell_type": "code",
      "source": [
        "plist=['MI','CSK','LSG','GT']\n",
        "plist[2]='RCB'\n",
        "plist"
      ],
      "metadata": {
        "colab": {
          "base_uri": "https://localhost:8080/"
        },
        "id": "LoE90L0FMK_G",
        "outputId": "2d92832b-be2c-4789-9341-3aea64c88a60"
      },
      "execution_count": 23,
      "outputs": [
        {
          "output_type": "execute_result",
          "data": {
            "text/plain": [
              "['MI', 'CSK', 'RCB', 'GT']"
            ]
          },
          "metadata": {},
          "execution_count": 23
        }
      ]
    },
    {
      "cell_type": "code",
      "source": [
        "name='Mumbai_Indians'\n",
        "name[0]='K'\n",
        "name  "
      ],
      "metadata": {
        "colab": {
          "base_uri": "https://localhost:8080/",
          "height": 200
        },
        "id": "dajA8FcoNFcd",
        "outputId": "95247218-3f30-41de-d7b6-4e7459b1be2f"
      },
      "execution_count": 28,
      "outputs": [
        {
          "output_type": "error",
          "ename": "TypeError",
          "evalue": "ignored",
          "traceback": [
            "\u001b[0;31m---------------------------------------------------------------------------\u001b[0m",
            "\u001b[0;31mTypeError\u001b[0m                                 Traceback (most recent call last)",
            "\u001b[0;32m<ipython-input-28-1b03dd0ecd8c>\u001b[0m in \u001b[0;36m<cell line: 2>\u001b[0;34m()\u001b[0m\n\u001b[1;32m      1\u001b[0m \u001b[0mname\u001b[0m\u001b[0;34m=\u001b[0m\u001b[0;34m'Mumbai_Indians'\u001b[0m\u001b[0;34m\u001b[0m\u001b[0;34m\u001b[0m\u001b[0m\n\u001b[0;32m----> 2\u001b[0;31m \u001b[0mname\u001b[0m\u001b[0;34m[\u001b[0m\u001b[0;36m0\u001b[0m\u001b[0;34m]\u001b[0m\u001b[0;34m=\u001b[0m\u001b[0;34m'K'\u001b[0m\u001b[0;34m\u001b[0m\u001b[0;34m\u001b[0m\u001b[0m\n\u001b[0m\u001b[1;32m      3\u001b[0m \u001b[0mname\u001b[0m\u001b[0;34m\u001b[0m\u001b[0;34m\u001b[0m\u001b[0m\n",
            "\u001b[0;31mTypeError\u001b[0m: 'str' object does not support item assignment"
          ]
        }
      ]
    }
  ]
}