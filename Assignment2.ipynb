{
 "cells": [
  {
   "cell_type": "markdown",
   "id": "db7a4e02-2168-42d5-ade0-254183440b9f",
   "metadata": {},
   "source": [
    "Q1. How do you comment code in Python? What are the different types of comments?"
   ]
  },
  {
   "cell_type": "markdown",
   "id": "6294a4c3-1794-4411-8fad-84d83ec8578b",
   "metadata": {},
   "source": [
    "Ans: Comments are of three types in Python \n",
    "1. Single line Comment(It begins with '#' character)\n",
    "2. Multi Line Comment (To make the comments as multiline comments we can use multiple '#' symbols or we can use string literals like  \" or ''')\n",
    "3. Docstring: docstring is the string literals with triple quotes that are appeared right after the function"
   ]
  },
  {
   "cell_type": "code",
   "execution_count": 3,
   "id": "0caded31-65ff-40d5-968c-b734f0a583a1",
   "metadata": {},
   "outputs": [
    {
     "name": "stdout",
     "output_type": "stream",
     "text": [
      "Hello\n"
     ]
    }
   ],
   "source": [
    "#Print Function Comment\n",
    "print('Hello')"
   ]
  },
  {
   "cell_type": "code",
   "execution_count": 4,
   "id": "362fed3f-1f39-406a-b668-64f4ffccab0a",
   "metadata": {},
   "outputs": [
    {
     "name": "stdout",
     "output_type": "stream",
     "text": [
      "Multi-line comments example\n"
     ]
    }
   ],
   "source": [
    "#print1\n",
    "#print2\n",
    "print('Multi-line comments example')"
   ]
  },
  {
   "cell_type": "code",
   "execution_count": 5,
   "id": "576d6938-1854-480b-ae69-0e5a8bdea469",
   "metadata": {},
   "outputs": [
    {
     "name": "stdout",
     "output_type": "stream",
     "text": [
      "Multiline Comments example using string literals\n"
     ]
    }
   ],
   "source": [
    "'''Multiline Comments example using string literals'''\n",
    "print('Multiline Comments example using string literals')"
   ]
  },
  {
   "cell_type": "code",
   "execution_count": 6,
   "id": "bc03060e-bed1-4e71-86b7-788fd74bece1",
   "metadata": {},
   "outputs": [
    {
     "name": "stdout",
     "output_type": "stream",
     "text": [
      " Add the values of a and b\n"
     ]
    }
   ],
   "source": [
    "def add(a,b):\n",
    "    \"\"\" Add the values of a and b\"\"\"\n",
    "    return a+b\n",
    "\n",
    "print(add.__doc__)"
   ]
  },
  {
   "cell_type": "markdown",
   "id": "0f7c2567-92ce-4647-b6f5-0de2d2c12526",
   "metadata": {},
   "source": [
    "Q2. What are variables in Python? How do you declare and assign values to variables?"
   ]
  },
  {
   "cell_type": "markdown",
   "id": "129210dd-9337-481a-8aa3-34a5e4a2ea00",
   "metadata": {},
   "source": [
    "Ans: A python variable is a symbolic name that is a reference or pointer to an object.Variables are the reserved memory locations used to store values with ina  python program"
   ]
  },
  {
   "cell_type": "code",
   "execution_count": 10,
   "id": "e040b7d8-fefa-4d43-8f45-a11c26ff6365",
   "metadata": {},
   "outputs": [
    {
     "name": "stdout",
     "output_type": "stream",
     "text": [
      "priya\n",
      "10\n"
     ]
    }
   ],
   "source": [
    "name='priya'\n",
    "print(name)\n",
    "num=10\n",
    "print(num)"
   ]
  },
  {
   "cell_type": "markdown",
   "id": "96f17c9f-9cd8-4797-93ed-7ef09f799bca",
   "metadata": {},
   "source": [
    "Q3. How do you convert one data type to another in Python?"
   ]
  },
  {
   "cell_type": "markdown",
   "id": "bc25222c-ccdb-4c85-b3b3-204a1a3039d9",
   "metadata": {},
   "source": [
    "Ans: To convert one data type to another , we can type conversion.There is two types of type conversion in python\n",
    "1. Implicit Type Conversion: Python automatically converts one data type into another and it doesn't need any user involvement\n",
    "2. Explicit Type Conversion: Here we use typecasting to convert one data type to another . functions like int(),float(),str() can be used here."
   ]
  },
  {
   "cell_type": "code",
   "execution_count": 13,
   "id": "9f0e2fb6-c171-4ebd-9dda-830355866899",
   "metadata": {},
   "outputs": [
    {
     "name": "stdout",
     "output_type": "stream",
     "text": [
      "25.25\n",
      "type of num1 <class 'int'>\n",
      "type of num2 <class 'float'>\n",
      "type of sum <class 'float'>\n"
     ]
    }
   ],
   "source": [
    "# Implicit Type Conversion\n",
    "num1=10\n",
    "num2=15.25\n",
    "sum=num1+num2\n",
    "print(sum)\n",
    "print(\"type of num1\",type(num1))\n",
    "print(\"type of num2\",type(num2))\n",
    "print(\"type of sum\",type(sum))"
   ]
  },
  {
   "cell_type": "code",
   "execution_count": 15,
   "id": "c8aa2b31-2027-4e31-bf2b-3c1af59f4f19",
   "metadata": {},
   "outputs": [
    {
     "name": "stdout",
     "output_type": "stream",
     "text": [
      "10023\n",
      "type of stra <class 'str'>\n",
      "type of num <class 'int'>\n"
     ]
    }
   ],
   "source": [
    "#Explict Type Conversion\n",
    "stra='10023'\n",
    "num=int(stra)\n",
    "print(num)\n",
    "print(\"type of stra\",type(stra))\n",
    "print(\"type of num\",type(num))\n"
   ]
  },
  {
   "cell_type": "markdown",
   "id": "b9adf4e2-6aa1-4171-8b5a-9ff8308d6721",
   "metadata": {},
   "source": [
    "Q4. How do you write and execute a Python script from the command line?"
   ]
  },
  {
   "cell_type": "markdown",
   "id": "4a57e2ee-a061-44a4-ba0b-3a7dd104d819",
   "metadata": {},
   "source": [
    "Ans: Write the python script and save it with .py extension\n",
    "Go to your command prompt and then write the word python followed by the path of the script file\n",
    "example: python first_script.py"
   ]
  },
  {
   "cell_type": "markdown",
   "id": "5ede3129-d7bf-4157-a1d9-c0ec2c72516a",
   "metadata": {},
   "source": [
    "Q5. Given a list my_list = [1, 2, 3, 4, 5], write the code to slice the list and obtain the sub-list [2, 3]."
   ]
  },
  {
   "cell_type": "code",
   "execution_count": 16,
   "id": "6e521931-8a67-4755-83f6-fe6ef0d55b3b",
   "metadata": {},
   "outputs": [
    {
     "name": "stdout",
     "output_type": "stream",
     "text": [
      "[2, 3]\n"
     ]
    }
   ],
   "source": [
    "my_list=[1,2,3,4,5]\n",
    "sub_list=my_list[1:3]\n",
    "print(sub_list)"
   ]
  },
  {
   "cell_type": "markdown",
   "id": "f33ce363-58e8-4dcc-8eec-8d67653bbf7c",
   "metadata": {},
   "source": [
    "Q6. What is a complex number in mathematics, and how is it represented in Python?\n",
    "Ans: The complex number is in form of a+ib where a is the real number and ib is imaginary number."
   ]
  },
  {
   "cell_type": "code",
   "execution_count": 17,
   "id": "321e13cd-a919-4eba-91f9-c71112951a19",
   "metadata": {},
   "outputs": [
    {
     "name": "stdout",
     "output_type": "stream",
     "text": [
      "(4+6j)\n",
      "type of num is: <class 'complex'>\n"
     ]
    }
   ],
   "source": [
    "#num=a+bj\n",
    "num=4+6j\n",
    "print(num)\n",
    "print('type of num is:',type(num))"
   ]
  },
  {
   "cell_type": "markdown",
   "id": "a85d8f53-e63b-4755-9033-dfaa81f459b5",
   "metadata": {},
   "source": [
    "Q7. What is the correct way to declare a variable named age and assign the value 25 to it?"
   ]
  },
  {
   "cell_type": "code",
   "execution_count": 18,
   "id": "6b22ee2b-0b09-4633-a9c5-0a20e0a669e4",
   "metadata": {},
   "outputs": [
    {
     "name": "stdout",
     "output_type": "stream",
     "text": [
      "the value of age is: 25\n"
     ]
    }
   ],
   "source": [
    "age=25\n",
    "print(\"the value of age is:\", age)"
   ]
  },
  {
   "cell_type": "markdown",
   "id": "8cff5b17-d1c1-4c72-a972-4baca46e6904",
   "metadata": {},
   "source": [
    "Q8. Declare a variable named price and assign the value 9.99 to it. What data type does this variable\n",
    "belong to?"
   ]
  },
  {
   "cell_type": "code",
   "execution_count": 19,
   "id": "db571cda-9c4d-4026-b2ed-c4ca571a0337",
   "metadata": {},
   "outputs": [
    {
     "name": "stdout",
     "output_type": "stream",
     "text": [
      "the type of variable price is: <class 'float'>\n"
     ]
    }
   ],
   "source": [
    "price=9.99\n",
    "print(\"the type of variable price is:\", type(price))"
   ]
  },
  {
   "cell_type": "markdown",
   "id": "53d2da2f-3e06-4ef6-8a4e-8ee49a8d4851",
   "metadata": {},
   "source": [
    "Q9. Create a variable named name and assign your full name to it as a string. How would you print the\n",
    "value of this variable?"
   ]
  },
  {
   "cell_type": "code",
   "execution_count": 20,
   "id": "ec920a59-6fb8-494e-8cdc-7aaebdfd4bab",
   "metadata": {},
   "outputs": [
    {
     "name": "stdout",
     "output_type": "stream",
     "text": [
      "Priyanka Tangade\n"
     ]
    }
   ],
   "source": [
    "name='Priyanka Tangade'\n",
    "print(name)"
   ]
  },
  {
   "cell_type": "markdown",
   "id": "79bd8a1b-3965-4495-b07f-d0d6ced73718",
   "metadata": {},
   "source": [
    "Q10. Given the string \"Hello, World!\", extract the substring \"World\"."
   ]
  },
  {
   "cell_type": "code",
   "execution_count": 21,
   "id": "25ccc65c-81c5-4856-b69b-dbc4947b80ea",
   "metadata": {},
   "outputs": [
    {
     "name": "stdout",
     "output_type": "stream",
     "text": [
      "World\n"
     ]
    }
   ],
   "source": [
    "text=\"Hello, World!\"\n",
    "print(text[7:12])"
   ]
  },
  {
   "cell_type": "markdown",
   "id": "fae633cf-b45e-49a7-ab59-060184a6a5ec",
   "metadata": {},
   "source": [
    "Q11. Create a variable named \"is_student\" and assign it a boolean value indicating whether you are\n",
    "currently a student or not."
   ]
  },
  {
   "cell_type": "code",
   "execution_count": 22,
   "id": "ac5e811a-f0df-4855-983b-dbcf5694f177",
   "metadata": {},
   "outputs": [
    {
     "name": "stdout",
     "output_type": "stream",
     "text": [
      "False\n",
      "<class 'bool'>\n"
     ]
    }
   ],
   "source": [
    "is_student=False\n",
    "print(is_student)\n",
    "print(type(is_student))"
   ]
  },
  {
   "cell_type": "code",
   "execution_count": null,
   "id": "3e775581-fedc-432f-872f-0fb844ebff21",
   "metadata": {},
   "outputs": [],
   "source": []
  }
 ],
 "metadata": {
  "kernelspec": {
   "display_name": "Python 3 (ipykernel)",
   "language": "python",
   "name": "python3"
  },
  "language_info": {
   "codemirror_mode": {
    "name": "ipython",
    "version": 3
   },
   "file_extension": ".py",
   "mimetype": "text/x-python",
   "name": "python",
   "nbconvert_exporter": "python",
   "pygments_lexer": "ipython3",
   "version": "3.10.8"
  }
 },
 "nbformat": 4,
 "nbformat_minor": 5
}
