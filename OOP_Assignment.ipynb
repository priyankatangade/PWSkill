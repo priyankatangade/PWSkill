{
 "cells": [
  {
   "cell_type": "markdown",
   "id": "8269acc3-e94a-47db-a797-45b20bb9db01",
   "metadata": {},
   "source": [
    "Q1, Create a vehicle class with an init method having instance variables as name_of_vehicle, max_speed\n",
    "and average_of_vehicle."
   ]
  },
  {
   "cell_type": "code",
   "execution_count": 6,
   "id": "32b0fcee-21f6-4c82-9538-7e32cd263d8c",
   "metadata": {},
   "outputs": [
    {
     "name": "stdout",
     "output_type": "stream",
     "text": [
      "Vehicle name is Nexon,max speed is 120, average is 20\n"
     ]
    }
   ],
   "source": [
    "class Vehicle:\n",
    "    def __init__(self,name,speed,avg):\n",
    "        self.name_of_vehicle=name\n",
    "        self.max_speed=speed\n",
    "        self.average_of_vehicle=avg\n",
    "\n",
    "v1=Vehicle('Nexon',120,20)\n",
    "print(f\"Vehicle name is {v1.name_of_vehicle},max speed is {v1.max_speed}, average is {v1.average_of_vehicle}\")"
   ]
  },
  {
   "cell_type": "markdown",
   "id": "57eb6517-ed27-472a-8e4f-c8f4cfdeed7d",
   "metadata": {},
   "source": [
    "Q2. Create a child class car from the vehicle class created in Que 1, which will inherit the vehicle class.\n",
    "Create a method named seating_capacity which takes capacity as an argument and returns the name of\n",
    "the vehicle and its seating capacity."
   ]
  },
  {
   "cell_type": "code",
   "execution_count": 14,
   "id": "cd412d17-17d8-476c-82b6-b336c27a2e75",
   "metadata": {},
   "outputs": [
    {
     "name": "stdout",
     "output_type": "stream",
     "text": [
      "car capacity and name is (5, 'Kia')\n"
     ]
    }
   ],
   "source": [
    "class Car(Vehicle):\n",
    "    def seating_capacity(self,capacity):\n",
    "        self.capacity=capacity\n",
    "        return self.capacity,self.name_of_vehicle\n",
    "c1=Car('Kia',130,17)\n",
    "print(f\"car capacity and name is {c1.seating_capacity(5)}\")\n",
    "\n"
   ]
  },
  {
   "cell_type": "markdown",
   "id": "5c796aa9-9f0e-4e40-87af-66631bd9dd0e",
   "metadata": {},
   "source": [
    "Q3. What is multiple inheritance? Write a python code to demonstrate multiple inheritance.\n",
    "Ans: When a class is Derived from more than one class is known as Multiple Inheritance"
   ]
  },
  {
   "cell_type": "code",
   "execution_count": 15,
   "id": "5e1207ac-a36c-4205-a290-a550f205bcce",
   "metadata": {},
   "outputs": [
    {
     "name": "stdout",
     "output_type": "stream",
     "text": [
      "Person class\n",
      "Human class\n",
      "Employee Class\n"
     ]
    }
   ],
   "source": [
    "class Person():\n",
    "    print(\"Person class\")\n",
    "class Human():\n",
    "    print(\"Human class\")\n",
    "   \n",
    "class Employee(Person,Human):\n",
    "    print(\"Employee Class\")\n",
    "\n",
    "E1=Employee()    "
   ]
  },
  {
   "cell_type": "markdown",
   "id": "437dba60-b432-4158-b9d5-be4b088eda28",
   "metadata": {},
   "source": [
    "Q4. What are getter and setter in python? Create a class and create a getter and a setter method in this\n",
    "class.Ans: getter and setter method is basically used for data encapsulation. getter method is used to get the value of a private variable and setter method is used to set the value of private variable."
   ]
  },
  {
   "cell_type": "code",
   "execution_count": 22,
   "id": "9663fdd8-84b4-41a6-9239-6ce39e7a0c92",
   "metadata": {},
   "outputs": [
    {
     "name": "stdout",
     "output_type": "stream",
     "text": [
      "Before setting Salary via set Method\n",
      "0\n",
      "After setting Salary via set Method\n",
      "30000\n"
     ]
    }
   ],
   "source": [
    "class Person():\n",
    "    def __init__(self,name,age):\n",
    "        self.name=name\n",
    "        self.age=age\n",
    "        self.__salary=0\n",
    "    def setSalary(self,sal):\n",
    "        self.__salary=sal\n",
    "    def getSalary(self):\n",
    "        return self.__salary\n",
    "\n",
    "p1=Person(\"Priya\",30)\n",
    "print(\"Before setting Salary via set Method\")\n",
    "print(p1.getSalary())\n",
    "p1.setSalary(30000)\n",
    "print(\"After setting Salary via set Method\")\n",
    "print(p1.getSalary())\n",
    "        "
   ]
  },
  {
   "cell_type": "markdown",
   "id": "ba013f8f-b905-45e0-a705-9bda77c26f90",
   "metadata": {},
   "source": [
    "Q5.What is method overriding in python? Write a python code to demonstrate method overriding.\n",
    "Ans: Method overriding allow the child class or subclass to provide the specific implementation of the method that is already provided by one of its parent class.\n",
    "When the method in the child class has the same name, same no of arguments , same return type as that of parent class then the method in the child class is said to override the method of parent class.\n"
   ]
  },
  {
   "cell_type": "code",
   "execution_count": 26,
   "id": "12beac11-b48b-4b85-8ae8-d18574d1b999",
   "metadata": {},
   "outputs": [
    {
     "name": "stdout",
     "output_type": "stream",
     "text": [
      "The name of the person is Priya\n",
      "The name of the Employee is Priyanka\n",
      "Age is 30\n"
     ]
    }
   ],
   "source": [
    "class Person():\n",
    "    def name(self):\n",
    "        print(\"The name of the person is Priya\")\n",
    "class Employee(Person):\n",
    "    def name(self):\n",
    "        print(\"The name of the Employee is Priyanka\")\n",
    "    def age(self):\n",
    "        print(\"Age is 30\")\n",
    "\n",
    "P1=Person()\n",
    "P1.name()\n",
    "\n",
    "E1=Employee()\n",
    "E1.name()\n",
    "E1.age()\n",
    "\n",
    "        "
   ]
  },
  {
   "cell_type": "code",
   "execution_count": null,
   "id": "fad9c7d7-c51c-4c3a-840b-14086411bdaa",
   "metadata": {},
   "outputs": [],
   "source": []
  }
 ],
 "metadata": {
  "kernelspec": {
   "display_name": "Python 3 (ipykernel)",
   "language": "python",
   "name": "python3"
  },
  "language_info": {
   "codemirror_mode": {
    "name": "ipython",
    "version": 3
   },
   "file_extension": ".py",
   "mimetype": "text/x-python",
   "name": "python",
   "nbconvert_exporter": "python",
   "pygments_lexer": "ipython3",
   "version": "3.10.8"
  }
 },
 "nbformat": 4,
 "nbformat_minor": 5
}
