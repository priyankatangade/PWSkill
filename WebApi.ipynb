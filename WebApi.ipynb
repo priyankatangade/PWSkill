{
 "cells": [
  {
   "cell_type": "markdown",
   "id": "b41369af-c4d3-4519-8516-42f35550afcf",
   "metadata": {},
   "source": [
    "Q1. What is an API? Give an example, where an API is used in real life.\n",
    "Ans: An Application Programming Interface is a way for Two or more computer programs to communicate with each other.It is a type of software interface, offering a service to other pieces of software. \n",
    "API is used in deliver material by streaming services like spotify, netfilx.API used in Tesla to provide automotive software upgrade."
   ]
  },
  {
   "cell_type": "markdown",
   "id": "24efeeb2-7e84-4f43-a387-c3cd14ae8e65",
   "metadata": {},
   "source": [
    "Q2. Give advantages and disadvantages of using API.\n",
    "Ans: Advantages\n",
    "1. Increased Interoperability\n",
    "2. Improved Efficiency\n",
    "3. Better user Experience\n",
    "4. Increased Flexibility\n",
    "5. New Revenue streams\n",
    "\n",
    "Disadvantages\n",
    "1. Security concerns\n",
    "2. Complexity\n",
    "3. Compatibilty issues\n",
    "4. Dependency on third party developers\n",
    "5. Governance and Management"
   ]
  },
  {
   "cell_type": "markdown",
   "id": "d58ea432-5252-4822-a541-5ac9cff5622a",
   "metadata": {},
   "source": [
    "Q3. What is a Web API? Differentiate between API and Web API.\n",
    "Ans: A Web API is an application programming interface for either a web server or a web browser.\n",
    "Web API Facilitates interaction between two machines over the network whereas API act as an interface between two different application so that they can communicate with each other. A Web service is designed to have an interface that is depicted in a machine processable format usually specified in Web Service Description Language.'HTTP' is the most commonly used protocol for communication. Web service also uses SOAP, REST, and XML-RPC as a means of communication. API may use any means of communication to initiate interaction between applications."
   ]
  },
  {
   "cell_type": "markdown",
   "id": "22506907-b183-4491-a4fe-739f3cb0241f",
   "metadata": {},
   "source": [
    "Q4. Explain REST and SOAP Architecture. Mention shortcomings of SOAP.\n",
    "Ans: SOAP\n",
    "Soap is a protocol for the excahnge of  information in a distributed environment. SOAP messages are encoded as XML Documents and can be exchanged using various underlying protocol.\n",
    "The SOAP web services architecture is based on interactions between three components: a service provider, a service requester, and an optional service registry.\n",
    "1.The service provider: The collection of software that provides a web service.\n",
    "2.The service requester: The collection of software that is responsible for requesting a web service from a service provider.\n",
    "3.The service registry: The service registry is a central location where service providers can publish their service descriptions and where service requesters can find those service descriptions.\n",
    "The interactions between the service provider, service requester, and service registry involve the following operations:\n",
    "1.Publish: When a service registry is used, a service provider publishes its service description in a service registry for the service requester to find.\n",
    "2.Find: When a service registry is used, a service requester finds the service description in the registry.\n",
    "3.Bind: The service requester uses the service description to bind with the service provider and interact with the web service implementation.\n",
    "\n",
    "Rest\n",
    "REST is a software architectural style that defines the set of rules to be used for creating web services. Web services which follow the REST architectural style are known as RESTful web services. It allows requesting systems to access and manipulate web resources by using a uniform and predefined set of rules.\n",
    "The six guiding principles or constraints of the RESTful architecture are:\n",
    "1.Uniform Interface\n",
    "2.Client-Server\n",
    "3.Staeless\n",
    "4.Cacheable\n",
    "5.Layered System\n",
    "6.Code on Demand\n",
    "\n",
    "ShortComings of Soap\n",
    "1.API calls are not cached\n",
    "2.Extremely Complicated\n",
    "3.No choice of Data Formats\n",
    "4.Requires more Bandwidth\n"
   ]
  },
  {
   "cell_type": "markdown",
   "id": "8fb9696e-5c6e-4c58-b6ae-bd0ee3d002b5",
   "metadata": {},
   "source": [
    "Q5. Differentiate between REST and SOAP.\n",
    "Ans: 1.The SOAP API exposes functions or operations, while REST APIs are data-driven.\n",
    "2.SOAP APIs are rigid and only allow XML messaging between applications. The application server also has to maintain the state of each client.REST is more flexible and allows applications to transfer data as plain text, HTML, XML, and JSON. REST is also stateless, so the REST API treats every new request independently of previous requests.\n",
    "3.SOAP messages are larger and more complex, which makes them slower to transmit and process. This can increase page load times.REST is faster and more efficient than SOAP due to the smaller message sizes of REST. REST responses are also cacheable.\n",
    "4.The SOAP protocol requires applications to store the state between requests, which increases bandwidth and memory requirements.Unlike SOAP, REST permits stateless and layered architecture, which makes it more scalable.\n",
    "5.SOAP requires an additional layer of WS-Security to work with HTTPS.REST supports HTTPS without additional overheads\n",
    "6.SOAP has error handling logic built into it, and it provides more reliability. On the other hand, REST requires you to try again in case of communication failures, and it’s less reliable."
   ]
  }
 ],
 "metadata": {
  "kernelspec": {
   "display_name": "Python 3 (ipykernel)",
   "language": "python",
   "name": "python3"
  },
  "language_info": {
   "codemirror_mode": {
    "name": "ipython",
    "version": 3
   },
   "file_extension": ".py",
   "mimetype": "text/x-python",
   "name": "python",
   "nbconvert_exporter": "python",
   "pygments_lexer": "ipython3",
   "version": "3.10.8"
  }
 },
 "nbformat": 4,
 "nbformat_minor": 5
}
