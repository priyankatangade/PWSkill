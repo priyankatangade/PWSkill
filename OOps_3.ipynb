{
 "cells": [
  {
   "cell_type": "markdown",
   "id": "6b1f8eeb-ff0b-46a0-b743-15eca08826c6",
   "metadata": {},
   "source": [
    "Q1. What is Abstraction in OOps? Explain with an example.\n",
    "Ans: Abstraction is the process of handling complexity by hiding the unnecessary information from the user. "
   ]
  },
  {
   "cell_type": "code",
   "execution_count": 1,
   "id": "9fd8b5bb-1ca6-4a44-b34b-81e44515ed15",
   "metadata": {},
   "outputs": [
    {
     "name": "stdout",
     "output_type": "stream",
     "text": [
      "mileage is 18Kmph\n",
      "mileage is 17kmph\n"
     ]
    }
   ],
   "source": [
    "from abc import ABC,abstractmethod\n",
    "class Car:\n",
    "    def mileage(self):\n",
    "        pass\n",
    "class Nexon(Car):\n",
    "    def mileage(self):\n",
    "        print(\"mileage is 18Kmph\")\n",
    "class Kia(Car):\n",
    "    def mileage(self):\n",
    "        print(\"mileage is 17kmph\")\n",
    "\n",
    "n=Nexon()\n",
    "n.mileage()\n",
    "k=Kia()\n",
    "k.mileage()\n",
    "    "
   ]
  },
  {
   "cell_type": "markdown",
   "id": "61c6e544-c885-496b-a1a8-dd6ce9f6bf7f",
   "metadata": {},
   "source": [
    "Q2. Differentiate between Abstraction and Encapsulation. Explain with an example.\n",
    "Ans: Abstraction is hiding the details and implementation of the code. Encapsulation is hiding the data and controlling the visibility of the code."
   ]
  },
  {
   "cell_type": "code",
   "execution_count": 12,
   "id": "715d31bb-b294-4b03-b0c3-57ef2e3c442d",
   "metadata": {},
   "outputs": [
    {
     "name": "stdout",
     "output_type": "stream",
     "text": [
      "the name of employee is priya, age is 30 and salary is 40000\n",
      "8\n",
      "this is good Priya\n"
     ]
    }
   ],
   "source": [
    "class Employee:\n",
    "    no_of_leaves=6\n",
    "    def __init__(self,name,age,salary):\n",
    "        self.name=name\n",
    "        self.age=age\n",
    "        self.salary=salary\n",
    "        \n",
    "    def printdetails(self):\n",
    "       return f\"the name of employee is {self.name}, age is {self.age} and salary is {self.salary}\"\n",
    "    \n",
    "    @classmethod\n",
    "    def change_leave(cls,newleaves):\n",
    "        cls.no_of_leaves=newleaves\n",
    "    \n",
    "    @staticmethod\n",
    "    def printstatus(string):\n",
    "        print(\"this is good \"+string)\n",
    "        \n",
    "p=Employee(\"priya\",30,40000)\n",
    "details=p.printdetails()\n",
    "print(details)\n",
    "Employee.change_leave(8)\n",
    "print(Employee.no_of_leaves)\n",
    "Employee.printstatus(\"Priya\")\n",
    "\n",
    "        "
   ]
  },
  {
   "cell_type": "markdown",
   "id": "c0764dfb-5399-429f-8c28-0bc8d261082a",
   "metadata": {},
   "source": [
    "Q3. What is abc module in python? Why is it used?\n",
    "Ans: The abc module in python library provides the infrastructure for defining custom abstract base classes. 'abc' works by marking method of the base class as abstract.This is done by the @abstractmethod decorator. 'abc' is used to make the method of the abstract class as a abstract method."
   ]
  },
  {
   "cell_type": "markdown",
   "id": "4966c666-902d-4d8d-8fb7-1a98d781e22b",
   "metadata": {},
   "source": [
    "Q4. How can we achieve data abstraction?\n",
    "Ans: Data Abstraction can be achieved by having or using abstract method and abstract classes."
   ]
  },
  {
   "cell_type": "markdown",
   "id": "7a33c132-91ef-4b21-937e-17203663cd49",
   "metadata": {},
   "source": [
    "Q5. Can we create an instance of an abstract class? Explain your answer.\n",
    "Ans: No we cannot create the instance of abstract class. Because abstract class is the incomplete class which does not have complete implementation details for the abstract methods."
   ]
  }
 ],
 "metadata": {
  "kernelspec": {
   "display_name": "Python 3 (ipykernel)",
   "language": "python",
   "name": "python3"
  },
  "language_info": {
   "codemirror_mode": {
    "name": "ipython",
    "version": 3
   },
   "file_extension": ".py",
   "mimetype": "text/x-python",
   "name": "python",
   "nbconvert_exporter": "python",
   "pygments_lexer": "ipython3",
   "version": "3.10.8"
  }
 },
 "nbformat": 4,
 "nbformat_minor": 5
}
