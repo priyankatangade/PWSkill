{
 "cells": [
  {
   "cell_type": "markdown",
   "id": "258a8591-c658-4339-a889-296c9a6b5745",
   "metadata": {},
   "source": [
    "Q1. What is multiprocessing in python? Why is it useful?\n",
    "Ans: Multiprocessing is the ability of a system to support more than one processer at the same time. Multiprocessor is useful for CPU-bound process,such as computational heavy tasks since it will benefit from having multiple processor.Multiprocessing is used to create a more reliable system."
   ]
  },
  {
   "cell_type": "markdown",
   "id": "ed2e0f58-5c4f-4878-aa6a-143b10ba5808",
   "metadata": {},
   "source": [
    "Q2. What are the differences between multiprocessing and multithreading?\n",
    "Ans:1. Multiprocessing uses two or more CPU's to increase computing power, whereas multithreading uses a single process with multiple code segments to increase computing power.\n",
    "2. Multithreading focuses on generating computing threads from a single process, whereas multiprocessing increases computing power by adding CPUs.\n",
    "3. Multiprocessing is used to create a more reliable system, whereas multithreading is used to create threads that run parallel to each other\n",
    "4. Multiprocessing executes many process simultaneously whereas multithreading executes many threads simultaneously"
   ]
  },
  {
   "cell_type": "markdown",
   "id": "5bc8e2c0-2613-4687-9c1a-f10ad3a236da",
   "metadata": {},
   "source": [
    "Q3. Write a python code to create a process using the multiprocessing module."
   ]
  },
  {
   "cell_type": "code",
   "execution_count": 5,
   "id": "395b677d-d4b9-42f8-8d04-4c1991781a70",
   "metadata": {},
   "outputs": [
    {
     "name": "stdout",
     "output_type": "stream",
     "text": [
      "this is under multiprocessing block\n",
      "Multiprocessing Example\n"
     ]
    }
   ],
   "source": [
    "import multiprocessing\n",
    "def display():\n",
    "    print(\"Multiprocessing Example\")\n",
    "if __name__=='__main__':\n",
    "      p=multiprocessing.Process(target=display)\n",
    "      print(\"this is under multiprocessing block\")  \n",
    "      p.start()\n",
    "      p.join()"
   ]
  },
  {
   "cell_type": "markdown",
   "id": "b5b1f2f5-5f28-4788-867d-ea2017f75a60",
   "metadata": {},
   "source": [
    "Q4. What is a multiprocessing pool in python? Why is it used?\n",
    "Ans: Multiprocessing pool can be used for parallel execution of a function across multiple input values, disturbing the input data across processes.It is used for data parallelism and to allow to run multiple jobs per process."
   ]
  },
  {
   "cell_type": "markdown",
   "id": "41acde7e-951b-41c0-a16a-01f0f4c29e37",
   "metadata": {},
   "source": [
    "Q5. How can we create a pool of worker processes in python using the multiprocessing module?\n",
    "Ans: To create a pool of worker processes in python , we have to use below syntax\n",
    "multiprocessing.Pool(processes,initializer,initargs,maxtasksperchild,context)"
   ]
  },
  {
   "cell_type": "code",
   "execution_count": 3,
   "id": "1ebdd6c0-d14a-46e7-bcdf-09c75290037b",
   "metadata": {},
   "outputs": [
    {
     "name": "stdout",
     "output_type": "stream",
     "text": [
      "\n",
      "Worker process id for 2:565\n",
      "Worker process id for 4:567\n",
      "Worker process id for 1:564\n",
      "Worker process id for 3:566\n",
      "[1, 4, 9, 16]\n",
      "\n",
      "\n",
      "\n"
     ]
    }
   ],
   "source": [
    "import multiprocessing\n",
    "import os\n",
    "def square(n):\n",
    "    print(\"\\nWorker process id for {0}:{1}\".format(n,os.getpid()))\n",
    "    return n*n\n",
    "if __name__=='__main__':\n",
    "    mylist=[1,2,3,4]\n",
    "    p=multiprocessing.Pool()\n",
    "    result=p.map(square,mylist)\n",
    "    print(result)\n"
   ]
  },
  {
   "cell_type": "code",
   "execution_count": null,
   "id": "2ba7752f-cdb2-4943-87a1-4fd6a1a2c9d7",
   "metadata": {},
   "outputs": [],
   "source": [
    "Q6. Write a python program to create 4 processes, each process should print a different number using the\n",
    "multiprocessing module in python."
   ]
  },
  {
   "cell_type": "code",
   "execution_count": 14,
   "id": "1aa38d41-2ca7-438b-b9a4-a622571a217a",
   "metadata": {},
   "outputs": [
    {
     "name": "stdout",
     "output_type": "stream",
     "text": [
      "Numbers: 0\n",
      "Numbers: 1Numbers:\n",
      " 2\n",
      "Numbers: 3\n"
     ]
    }
   ],
   "source": [
    "import multiprocessing\n",
    "def number(n):\n",
    "    print(\"Numbers:\",n)\n",
    "if __name__=='__main__':\n",
    "  processes=[]\n",
    "  for i in range(4):\n",
    "    process=multiprocessing.Process(target=number,args=(i,))\n",
    "    processes.append(process)\n",
    "    process.start()\n",
    "  for process in processes:\n",
    "     process.join()"
   ]
  }
 ],
 "metadata": {
  "kernelspec": {
   "display_name": "Python 3 (ipykernel)",
   "language": "python",
   "name": "python3"
  },
  "language_info": {
   "codemirror_mode": {
    "name": "ipython",
    "version": 3
   },
   "file_extension": ".py",
   "mimetype": "text/x-python",
   "name": "python",
   "nbconvert_exporter": "python",
   "pygments_lexer": "ipython3",
   "version": "3.10.8"
  }
 },
 "nbformat": 4,
 "nbformat_minor": 5
}
