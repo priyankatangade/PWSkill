{
 "cells": [
  {
   "cell_type": "markdown",
   "id": "05bcc344-d111-4741-a2e9-d4907d0d75a5",
   "metadata": {},
   "source": [
    "Q1. Which keyword is used to create a function? Create a function to return a list of odd numbers in the range of 1 to 25.\n",
    "Ans: def keyword is used to create a function"
   ]
  },
  {
   "cell_type": "code",
   "execution_count": 1,
   "id": "2ae8064d-83dc-41d1-b131-c112ad95e3c3",
   "metadata": {},
   "outputs": [
    {
     "name": "stdout",
     "output_type": "stream",
     "text": [
      "1\n",
      "3\n",
      "5\n",
      "7\n",
      "9\n",
      "11\n",
      "13\n",
      "15\n",
      "17\n",
      "19\n",
      "21\n",
      "23\n"
     ]
    }
   ],
   "source": [
    "def odd_numbers():\n",
    "    for i in range(1,25):\n",
    "        if i%2!=0:\n",
    "           print(i)\n",
    "odd_numbers()        \n",
    "        "
   ]
  },
  {
   "cell_type": "markdown",
   "id": "8e465b15-e828-440a-9623-5435a0efb5bc",
   "metadata": {},
   "source": [
    "Q2. Why *args and **kwargs is used in some functions? Create a function each for *args and **kwargs to demonstrate their use. Ans: *args is used to pass teh variable number of arguments to the function. **kwargs is used to pass the keyworded, variable-length argument list."
   ]
  },
  {
   "cell_type": "code",
   "execution_count": 2,
   "id": "677c19fc-8998-4a8f-be11-4d1fdcf79abc",
   "metadata": {},
   "outputs": [
    {
     "name": "stdout",
     "output_type": "stream",
     "text": [
      "priya\n",
      "vaibhav\n",
      "chetan\n"
     ]
    }
   ],
   "source": [
    "def names(*args):\n",
    "    for name in args:\n",
    "        print(name)\n",
    "names(\"priya\",\"vaibhav\",\"chetan\")     "
   ]
  },
  {
   "cell_type": "code",
   "execution_count": 3,
   "id": "8b655bce-ea2e-40cb-9399-ae3991919c40",
   "metadata": {},
   "outputs": [
    {
     "name": "stdout",
     "output_type": "stream",
     "text": [
      "key is firstname and value is priya\n",
      "key is middlename and value is kawadu\n",
      "key is surname and value is Tangade\n"
     ]
    }
   ],
   "source": [
    "def myFun(**kwargs):\n",
    "    for key,value in kwargs.items():\n",
    "        print(f\"key is {key} and value is {value}\")\n",
    "        \n",
    "myFun(firstname=\"priya\",middlename=\"kawadu\",surname=\"Tangade\")        \n",
    "        "
   ]
  },
  {
   "cell_type": "markdown",
   "id": "85eaa3e2-19cf-4fef-a245-52d252325b1d",
   "metadata": {},
   "source": [
    "Q3. What is an iterator in python? Name the method used to initialise the iterator object and the method used for iteration. Use these methods to print the first five elements of the given list [2, 4, 6, 8, 10, 12, 14, 16, 18, 20].                 Ans: An iterator is a object that is used to iterate over the iterable objects like list, tuples,sets.The iter() method is used for initialization of iterator and next() method is used to iterate over the elements"
   ]
  },
  {
   "cell_type": "code",
   "execution_count": 4,
   "id": "1cda3901-512a-4322-bb8e-d85cba89fa4a",
   "metadata": {},
   "outputs": [
    {
     "name": "stdout",
     "output_type": "stream",
     "text": [
      "2\n",
      "4\n",
      "6\n",
      "8\n",
      "10\n"
     ]
    }
   ],
   "source": [
    "list1=[2,4,6,8,10,12,14,16,18,20]\n",
    "list_iterator=iter(list1)\n",
    "print(next(list_iterator))\n",
    "print(next(list_iterator))\n",
    "print(next(list_iterator))\n",
    "print(next(list_iterator))\n",
    "print(next(list_iterator))"
   ]
  },
  {
   "cell_type": "markdown",
   "id": "7eaf2fe4-dafd-484e-af96-110e8e882107",
   "metadata": {},
   "source": [
    "Q4. What is a generator function in python? Why yield keyword is used? Give an example of a generator function.            Ans: Generator is a function that returnd the traversal object and used to create the iterator.In simple words, a generator is a function that returns an iterator that produces a sequence of values when iterated over. Yield keyword is used to produce the value from the generator."
   ]
  },
  {
   "cell_type": "code",
   "execution_count": 5,
   "id": "10247d7b-1b0e-4ef3-b6bf-ebb27b853daf",
   "metadata": {},
   "outputs": [
    {
     "name": "stdout",
     "output_type": "stream",
     "text": [
      "0\n",
      "1\n",
      "2\n",
      "3\n"
     ]
    }
   ],
   "source": [
    "def myFunc(num):\n",
    "    value=0\n",
    "    while value<num:\n",
    "        yield value\n",
    "        value+=1\n",
    "for value in myFunc(4):\n",
    " print(value)\n"
   ]
  },
  {
   "cell_type": "markdown",
   "id": "44308672-51b8-4cd4-b189-361ceec3cea7",
   "metadata": {},
   "source": [
    "Q5. Create a generator function for prime numbers less than 1000. Use the next() method to print the first 20 prime numbers."
   ]
  },
  {
   "cell_type": "code",
   "execution_count": 4,
   "id": "6eba3893-5a38-4da2-9d70-9e2a31dc1e07",
   "metadata": {},
   "outputs": [
    {
     "name": "stdout",
     "output_type": "stream",
     "text": [
      "2\n",
      "3\n",
      "5\n",
      "7\n",
      "11\n",
      "13\n",
      "17\n",
      "19\n",
      "23\n",
      "29\n",
      "31\n",
      "37\n",
      "41\n",
      "43\n",
      "47\n",
      "53\n",
      "59\n",
      "61\n",
      "67\n",
      "71\n"
     ]
    }
   ],
   "source": [
    "def is_prime(n):\n",
    "    if n<2:\n",
    "        return False\n",
    "    for i in range(2,n):\n",
    "        if n%i==0:\n",
    "          return False\n",
    "    return True    \n",
    "\n",
    "def prime_generator():\n",
    "    num=2\n",
    "    while num<1000:\n",
    "       if is_prime(num):\n",
    "          yield num\n",
    "       num+=1\n",
    "primeCheck=prime_generator()\n",
    "for i in range(20):\n",
    "    print(next(primeCheck))"
   ]
  },
  {
   "cell_type": "markdown",
   "id": "746c7628-5359-4fdd-90b7-53b540be6c9d",
   "metadata": {},
   "source": [
    "Q6. Write a python program to print the first 10 Fibonacci numbers using a while loop."
   ]
  },
  {
   "cell_type": "code",
   "execution_count": 5,
   "id": "7adb19da-9d2e-4d1e-80da-bc58e0ce38f2",
   "metadata": {},
   "outputs": [
    {
     "name": "stdout",
     "output_type": "stream",
     "text": [
      "1\n",
      "2\n",
      "3\n",
      "5\n",
      "8\n",
      "13\n",
      "21\n",
      "34\n",
      "55\n",
      "89\n"
     ]
    }
   ],
   "source": [
    "n1=0\n",
    "n2=1\n",
    "i=0\n",
    "while i<10:\n",
    "    num=n1+n2\n",
    "    n1=n2\n",
    "    n2=num\n",
    "    i+=1\n",
    "    print(num)"
   ]
  },
  {
   "cell_type": "markdown",
   "id": "84d2ac34-2201-4311-86b2-d7cca3be8c4a",
   "metadata": {},
   "source": [
    "Q7. Write a List Comprehension to iterate through the given string: ‘pwskills’. Expected output: ['p', 'w', 's', 'k', 'i', 'l', 'l', 's']"
   ]
  },
  {
   "cell_type": "code",
   "execution_count": 6,
   "id": "7ac4a8f4-0200-4531-a7c5-597223d745d2",
   "metadata": {},
   "outputs": [
    {
     "name": "stdout",
     "output_type": "stream",
     "text": [
      "['p', 'w', 's', 'k', 'i', 'l', 'l', 's']\n"
     ]
    }
   ],
   "source": [
    "output=[i for i in 'pwskills']\n",
    "print(output)"
   ]
  },
  {
   "cell_type": "markdown",
   "id": "5d339c40-93f4-41b0-808a-d5782ef0c76c",
   "metadata": {},
   "source": [
    "Q8. Write a python program to check whether a given number is Palindrome or not using a while loop."
   ]
  },
  {
   "cell_type": "code",
   "execution_count": 44,
   "id": "7bb9f652-20ea-44c8-a398-e3631126488e",
   "metadata": {},
   "outputs": [
    {
     "name": "stdout",
     "output_type": "stream",
     "text": [
      "Given 1212 is not a palindrome number\n",
      "Given 12321 is a palindrome number\n"
     ]
    }
   ],
   "source": [
    "def is_palindrome(num):\n",
    "  new_num = 0\n",
    "  original_num = num\n",
    "    \n",
    "  while num > 0:\n",
    "    new_num = new_num * 10 + num % 10\n",
    "    num = num // 10\n",
    "    \n",
    "  if new_num == original_num:\n",
    "        print(f\"Given {original_num} is a palindrome number\")\n",
    "  else:\n",
    "        print(f\"Given {original_num} is not a palindrome number\")\n",
    "\n",
    "is_palindrome(1212)  \n",
    "is_palindrome(12321)"
   ]
  },
  {
   "cell_type": "markdown",
   "id": "6598a1a0-11e8-48ef-a28d-f17e14bb9e0e",
   "metadata": {},
   "source": [
    "Q9.Write a code to print odd numbers from 1 to 100 using list comprehension"
   ]
  },
  {
   "cell_type": "code",
   "execution_count": 8,
   "id": "8b82964a-c6c3-45a0-b742-14cf5e191692",
   "metadata": {},
   "outputs": [
    {
     "name": "stdout",
     "output_type": "stream",
     "text": [
      "[1, 3, 5, 7, 9, 11, 13, 15, 17, 19, 21, 23, 25, 27, 29, 31, 33, 35, 37, 39, 41, 43, 45, 47, 49, 51, 53, 55, 57, 59, 61, 63, 65, 67, 69, 71, 73, 75, 77, 79, 81, 83, 85, 87, 89, 91, 93, 95, 97, 99]\n"
     ]
    }
   ],
   "source": [
    "\n",
    "odd_num=[x for x in range(100) if x%2!=0]\n",
    "print(odd_num)"
   ]
  }
 ],
 "metadata": {
  "kernelspec": {
   "display_name": "Python 3 (ipykernel)",
   "language": "python",
   "name": "python3"
  },
  "language_info": {
   "codemirror_mode": {
    "name": "ipython",
    "version": 3
   },
   "file_extension": ".py",
   "mimetype": "text/x-python",
   "name": "python",
   "nbconvert_exporter": "python",
   "pygments_lexer": "ipython3",
   "version": "3.10.8"
  }
 },
 "nbformat": 4,
 "nbformat_minor": 5
}
